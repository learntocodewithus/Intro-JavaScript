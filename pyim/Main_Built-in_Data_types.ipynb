{
 "cells": [
  {
   "cell_type": "markdown",
   "metadata": {},
   "source": [
    "Main Built-in Data types.\n",
    "Python's built-in data types can be grouped into several classes. \n",
    "\n",
    "boolean: \n",
    "\n",
    "the type of the built-in values True and False. Useful in conditional expressions, and anywhere else you want to represent the truth or falsity of some condition. \n",
    "\n",
    "Numeric types:\n",
    "\n",
    "int: Integers - non-limited length in Python 3.x\n",
    "float: Floating-Point numbers\n",
    "\n",
    "Sequences:\n",
    "\n",
    "str: String is  a sequence of Unicode characters (in the range of U+0000 - U+10FFFF) in Python 3.x\n",
    "\n",
    "list: List is a Generic data structure to store a collection of items.\n",
    "\n",
    "tuple: Tuples are used for grouping data.\n",
    "\n",
    "Sets:\n",
    "\n",
    "set: an unordered collection of unique objects; \n",
    "\n",
    "Mappings:\n",
    "\n",
    "dict: Python dictionaries, also called hashmaps or associative arrays, which means that an element of the list is associated with a definition."
   ]
  },
  {
   "cell_type": "code",
   "execution_count": null,
   "metadata": {
    "collapsed": true
   },
   "outputs": [],
   "source": []
  }
 ],
 "metadata": {
  "kernelspec": {
   "display_name": "Python [conda root]",
   "language": "python",
   "name": "conda-root-py"
  },
  "language_info": {
   "codemirror_mode": {
    "name": "ipython",
    "version": 3
   },
   "file_extension": ".py",
   "mimetype": "text/x-python",
   "name": "python",
   "nbconvert_exporter": "python",
   "pygments_lexer": "ipython3",
   "version": "3.5.4"
  }
 },
 "nbformat": 4,
 "nbformat_minor": 2
}
