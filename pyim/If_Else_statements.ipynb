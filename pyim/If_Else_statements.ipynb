{
 "cells": [
  {
   "cell_type": "markdown",
   "metadata": {},
   "source": [
    "Decision Structures"
   ]
  },
  {
   "cell_type": "code",
   "execution_count": 2,
   "metadata": {},
   "outputs": [
    {
     "name": "stdout",
     "output_type": "stream",
     "text": [
      "What is the temperature? 90\n"
     ]
    }
   ],
   "source": [
    "temperature = float(input('What is the temperature? '))\n"
   ]
  },
  {
   "cell_type": "code",
   "execution_count": 4,
   "metadata": {},
   "outputs": [
    {
     "name": "stdout",
     "output_type": "stream",
     "text": [
      "Wear shorts.\n"
     ]
    }
   ],
   "source": [
    "# Code blocks are defined by their indentation\n",
    "# All statements with the same distance to the right \n",
    "# belong to the same block of code\n",
    "if temperature > 70:\n",
    "    print('Wear shorts.')\n",
    "else:\n",
    "    print('Wear long pants.')"
   ]
  },
  {
   "cell_type": "markdown",
   "metadata": {},
   "source": [
    "Relational operators"
   ]
  },
  {
   "cell_type": "markdown",
   "metadata": {},
   "source": [
    "```\n",
    "<  less than\n",
    "<= less than or equal to\n",
    "== equal to\n",
    ">= greater than or equal to\n",
    ">  greater than\n",
    "!= not equal to\n",
    "```"
   ]
  },
  {
   "cell_type": "code",
   "execution_count": 3,
   "metadata": {},
   "outputs": [
    {
     "name": "stdout",
     "output_type": "stream",
     "text": [
      "What is the temperature? 70\n",
      "Go either way\n"
     ]
    }
   ],
   "source": [
    "temperature = float(input('What is the temperature? '))\n",
    "if temperature > 70:\n",
    "    print('Wear shorts.')\n",
    "elif temperature == 70:\n",
    "    print(\"Go either way\")\n",
    "else:\n",
    "    print('Wear long pants.')"
   ]
  },
  {
   "cell_type": "markdown",
   "metadata": {},
   "source": [
    "If, elif and else are keywords in Python.\n",
    "\n",
    "A condition is a test for something ( is x less than y, is x == y etc. )\n",
    "\n",
    "The colon (:) at the end of the if line is required. \n",
    "\n",
    "Statements are instructions to follow if the condition is true. \n",
    "\n",
    "These statements must be indented and is only being run when the if condition\n",
    "is met. "
   ]
  },
  {
   "cell_type": "markdown",
   "metadata": {},
   "source": [
    "If vs Elif."
   ]
  },
  {
   "cell_type": "markdown",
   "metadata": {},
   "source": [
    "Multiple if's means your code would go and check all the if conditions, where as in case of elif, if one if condition satisfies it would not check other conditions."
   ]
  },
  {
   "cell_type": "code",
   "execution_count": 7,
   "metadata": {},
   "outputs": [
    {
     "name": "stdout",
     "output_type": "stream",
     "text": [
      "You are a child\n",
      "The age must be a positive integer!\n"
     ]
    }
   ],
   "source": [
    "age =18\n",
    "\n",
    "if age < 21:\n",
    "    print (\"You are a child\")\n",
    "if age > 21:\n",
    "    print (\"You are an adult\")\n",
    "else:   #Handle all cases were 'age' is negative \n",
    "    print (\"The age must be a positive integer!\")\n"
   ]
  },
  {
   "cell_type": "markdown",
   "metadata": {},
   "source": [
    "Here you can see that when 18 is used as input the answer is (surprisingly) 2 sentences. That is wrong. It should only be the first sentence.\n",
    "\n",
    "That is because BOTH if statements are being evaluated. The computer sees them as two separate statements:\n",
    "\n",
    "The first one is true for 18 and so \"You are a child\" is printed.\n",
    "The second if statement is false and therefore the else part is executed printing \"The age must be a positive integer\".\n",
    "The elif fixes this and makes the two if statements 'stick together' as one:\n",
    "\n"
   ]
  },
  {
   "cell_type": "code",
   "execution_count": 5,
   "metadata": {},
   "outputs": [
    {
     "name": "stdout",
     "output_type": "stream",
     "text": [
      "You are a child\n"
     ]
    }
   ],
   "source": [
    "age =18\n",
    "\n",
    "if age < 21:\n",
    "    print (\"You are a child\")\n",
    "elif age > 21:\n",
    "    print (\"You are an adult\")\n",
    "else:   #Handle all cases were 'age' is negative \n",
    "    print (\"The age must be a positive integer!\")\n"
   ]
  },
  {
   "cell_type": "markdown",
   "metadata": {},
   "source": [
    "Max of Three"
   ]
  },
  {
   "cell_type": "markdown",
   "metadata": {},
   "source": [
    "Suppose we need an algorithm to find the largest of three numbers."
   ]
  },
  {
   "cell_type": "code",
   "execution_count": 8,
   "metadata": {},
   "outputs": [
    {
     "name": "stdout",
     "output_type": "stream",
     "text": [
      "please enter x1: 5\n",
      "and x2: 3\n",
      "and x3: 2\n",
      "5\n"
     ]
    }
   ],
   "source": [
    "x1, x2, x3 = int(input(\"please enter x1: \")), int(input(\"and x2: \")), int(input(\"and x3: \"))\n",
    "print(x1)"
   ]
  },
  {
   "cell_type": "code",
   "execution_count": null,
   "metadata": {
    "collapsed": true
   },
   "outputs": [],
   "source": [
    "# x, y = [int(x) for x in input().split()]  \n",
    "# print(x)"
   ]
  },
  {
   "cell_type": "markdown",
   "metadata": {},
   "source": [
    "Strategy 1. Compare Each to All."
   ]
  },
  {
   "cell_type": "markdown",
   "metadata": {},
   "source": [
    "Let's consider the first probability, that x1 is the largest."
   ]
  },
  {
   "cell_type": "code",
   "execution_count": null,
   "metadata": {
    "collapsed": true
   },
   "outputs": [],
   "source": [
    "if x1 >= x2 >= x3:\n",
    "    maxval = x1\n",
    "    print(\"True\")\n",
    "else:\n",
    "    print(\"False\")"
   ]
  },
  {
   "cell_type": "markdown",
   "metadata": {},
   "source": [
    "Are we certain that this condition is True in all cases where x1 is the max? What if x1=5, x2=2, x3=4?"
   ]
  },
  {
   "cell_type": "markdown",
   "metadata": {},
   "source": [
    "Python allows us to test multiple conditions by combining them with the keyword and."
   ]
  },
  {
   "cell_type": "code",
   "execution_count": null,
   "metadata": {
    "collapsed": true
   },
   "outputs": [],
   "source": [
    "if x1 >= x2 and x1 >= x3:\n",
    "    maxval = x1\n",
    "elif x2 >= x1 and x2 >= x3:\n",
    "    maxval = x2\n",
    "else:\n",
    "    maxval = x3\n",
    "print(maxval)"
   ]
  },
  {
   "cell_type": "markdown",
   "metadata": {},
   "source": [
    "Strategy 2. Decision Tree."
   ]
  },
  {
   "cell_type": "markdown",
   "metadata": {},
   "source": [
    "![title](img/fl.png)"
   ]
  },
  {
   "cell_type": "code",
   "execution_count": null,
   "metadata": {
    "collapsed": true
   },
   "outputs": [],
   "source": [
    "if x1 >= x2:\n",
    "    if x1 >= x3:\n",
    "        maxval = x1\n",
    "    else:\n",
    "        maxval = x3\n",
    "else:\n",
    "    if x2 > x3:\n",
    "        maxval = x2\n",
    "    else:\n",
    "        maxval = x3\n",
    "        \n",
    "print(maxval)"
   ]
  },
  {
   "cell_type": "markdown",
   "metadata": {},
   "source": [
    "The strenght of this approach is its efficience, No matter what the ordering of the three values, this algorithm will make exactly two comparisons and assign the correct value to maxval."
   ]
  },
  {
   "cell_type": "markdown",
   "metadata": {},
   "source": [
    "Strategy 3. Sequential Processing."
   ]
  },
  {
   "cell_type": "markdown",
   "metadata": {},
   "source": [
    "![title](img/seq.png)"
   ]
  },
  {
   "cell_type": "markdown",
   "metadata": {},
   "source": [
    "Sequential approach is to scan through the numbers until you find a big one."
   ]
  },
  {
   "cell_type": "code",
   "execution_count": null,
   "metadata": {
    "collapsed": true
   },
   "outputs": [],
   "source": [
    "maxval = x1\n",
    "if x2 > maxval:\n",
    "    maxval = x2\n",
    "if x3 > maxval:\n",
    "    maxval = x3\n",
    "\n",
    "print(maxval)"
   ]
  },
  {
   "cell_type": "markdown",
   "metadata": {},
   "source": [
    "Claerly, the sequential approach is the best of our three algorithms."
   ]
  },
  {
   "cell_type": "code",
   "execution_count": null,
   "metadata": {
    "collapsed": true
   },
   "outputs": [],
   "source": []
  }
 ],
 "metadata": {
  "kernelspec": {
   "display_name": "Python 3",
   "language": "python",
   "name": "python3"
  },
  "language_info": {
   "codemirror_mode": {
    "name": "ipython",
    "version": 3
   },
   "file_extension": ".py",
   "mimetype": "text/x-python",
   "name": "python",
   "nbconvert_exporter": "python",
   "pygments_lexer": "ipython3",
   "version": "3.5.4"
  }
 },
 "nbformat": 4,
 "nbformat_minor": 2
}
